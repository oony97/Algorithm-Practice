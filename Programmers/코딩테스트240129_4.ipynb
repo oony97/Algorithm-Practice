{
 "cells": [
  {
   "cell_type": "markdown",
   "metadata": {},
   "source": [
    "# 프로그래머스\n",
    "## 최소직사각형\n",
    "### Lv.1"
   ]
  },
  {
   "cell_type": "code",
   "execution_count": null,
   "metadata": {},
   "outputs": [],
   "source": [
    "def solution(sizes):\n",
    "    side_1 = 0\n",
    "    side_2 = 0\n",
    "    for size in sizes:\n",
    "        side_1 = max(side_1, min(size))\n",
    "        side_2 = max(side_2, max(size))\n",
    "    answer = side_1 * side_2\n",
    "    return answer"
   ]
  },
  {
   "cell_type": "code",
   "execution_count": null,
   "metadata": {},
   "outputs": [],
   "source": [
    "# 과거 답안\n",
    "def solution(sizes):\n",
    "    short = []\n",
    "    long = []\n",
    "    for i in sizes:\n",
    "        short.append(min(i))\n",
    "        long.append(max(i))\n",
    "    answer = max(short) * max(long)\n",
    "    return answer"
   ]
  }
 ],
 "metadata": {
  "language_info": {
   "name": "python"
  }
 },
 "nbformat": 4,
 "nbformat_minor": 2
}
