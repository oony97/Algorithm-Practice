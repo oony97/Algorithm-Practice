{
 "cells": [
  {
   "cell_type": "markdown",
   "metadata": {},
   "source": [
    "# 프로그래머스\n",
    "## 숫자 짝꿍\n",
    "### Lv.1"
   ]
  },
  {
   "cell_type": "code",
   "execution_count": 3,
   "metadata": {},
   "outputs": [],
   "source": [
    "def solution(X, Y):\n",
    "    answer = ''\n",
    "    common_nums = []\n",
    "    # X와 Y에 0~9까지의 정수를 몇 개씩 가지고 있는지 저장하는 딕셔너리\n",
    "    X_dict = {'0':0, '1':0, '2':0, '3':0, '4':0, '5':0, '6':0, '7':0, '8':0, '9':0}\n",
    "    Y_dict = {'0':0, '1':0, '2':0, '3':0, '4':0, '5':0, '6':0, '7':0, '8':0, '9':0}\n",
    "    for i in str(X):\n",
    "        X_dict[i] += 1\n",
    "    for j in str(Y):\n",
    "        Y_dict[j] += 1\n",
    "    # 0~9까지 X와 Y 둘 다 가지고 있는 횟수가 0보다 크면 common_nums에 해당 정수를 더 작은 횟수로 저장\n",
    "    for k in range(10):\n",
    "        if X_dict[f'{k}'] > 0 and Y_dict[f'{k}'] > 0:\n",
    "            for _ in range(min(X_dict[f'{k}'], Y_dict[f'{k}'])):\n",
    "                common_nums.append(k)\n",
    "    # 만약 공통으로 가지고 있는 정수가 없으면 정답은 '-1'\n",
    "    if len(common_nums) == 0:\n",
    "        answer = '-1'\n",
    "    else:\n",
    "        # common_nums를 큰 수부터 정렬 후 가장 큰수가 0이라면 0을 반환\n",
    "        # 그렇지 않은 경우는 큰수부터 차례로 정답에 더해준다.\n",
    "        common_nums.sort(reverse=True)\n",
    "        if common_nums[0] == 0:\n",
    "            answer = '0'\n",
    "        else:\n",
    "            for j in common_nums:\n",
    "                answer += f'{j}' \n",
    "    return answer"
   ]
  },
  {
   "cell_type": "code",
   "execution_count": null,
   "metadata": {},
   "outputs": [],
   "source": []
  }
 ],
 "metadata": {
  "kernelspec": {
   "display_name": "Python 3",
   "language": "python",
   "name": "python3"
  },
  "language_info": {
   "codemirror_mode": {
    "name": "ipython",
    "version": 3
   },
   "file_extension": ".py",
   "mimetype": "text/x-python",
   "name": "python",
   "nbconvert_exporter": "python",
   "pygments_lexer": "ipython3",
   "version": "3.10.1"
  }
 },
 "nbformat": 4,
 "nbformat_minor": 2
}
