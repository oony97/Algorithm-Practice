{
 "cells": [
  {
   "cell_type": "markdown",
   "metadata": {},
   "source": [
    "# 프로그래머스\n",
    "## 덧칠하기"
   ]
  },
  {
   "cell_type": "code",
   "execution_count": 1,
   "metadata": {},
   "outputs": [],
   "source": [
    "def solution(n, m, section):\n",
    "    count = 0\n",
    "    first_empty_block = section[0] # 현재 칠해지지 않은 첫 번째 구역\n",
    "    painted_until = 0 # 덧칠해진 마지막 구역\n",
    "    for empty_block in section:\n",
    "        if empty_block <= painted_until: # 비어있어야 할 곳 이 덧칠해진 마지막 구역보다 앞에 있으면 패스\n",
    "            pass\n",
    "        else:\n",
    "            painted_until = empty_block + m - 1\n",
    "            count += 1\n",
    "    return count"
   ]
  }
 ],
 "metadata": {
  "kernelspec": {
   "display_name": "upstage_ai_lab",
   "language": "python",
   "name": "python3"
  },
  "language_info": {
   "codemirror_mode": {
    "name": "ipython",
    "version": 3
   },
   "file_extension": ".py",
   "mimetype": "text/x-python",
   "name": "python",
   "nbconvert_exporter": "python",
   "pygments_lexer": "ipython3",
   "version": "3.9.18"
  }
 },
 "nbformat": 4,
 "nbformat_minor": 2
}
