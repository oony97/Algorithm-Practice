{
 "cells": [
  {
   "cell_type": "markdown",
   "metadata": {},
   "source": [
    "# 프로그래머스\n",
    "## 개인정보 수집 유효기간"
   ]
  },
  {
   "cell_type": "code",
   "execution_count": 33,
   "metadata": {},
   "outputs": [],
   "source": [
    "def solution(today, terms, privacies):\n",
    "    answer = []\n",
    "    today_list = today.split('.')\n",
    "    today_new = int(today_list[0] + today_list[1] + today_list[2]) # 날짜 8자리 정수로 표현\n",
    "    terms_dict = {}\n",
    "    privacy_idx = 0\n",
    "    # 약관 이름과 기간 딕셔너리로 저장\n",
    "    for term in terms:\n",
    "        terms_dict[term.split()[0]] = int(term.split()[1])\n",
    "    for privacy in privacies:\n",
    "        privacy_idx += 1\n",
    "        date_list = privacy.split()[0].split('.')\n",
    "        date_new = int(date_list[0] + date_list[1] + date_list[2]) # 날짜 8자리 정수로 표현\n",
    "        months = terms_dict[privacy[-1]] # 약정에 따른 유효기간\n",
    "        date_new -= 1 \n",
    "        # 날짜에서 하루를 빼주기 전 만약 1일이였으면 28일로 바꿔준 후 한 달도 빼주기\n",
    "        if date_new % 100 == 0:\n",
    "            date_new += 28\n",
    "            date_new -= 100\n",
    "            # 만약 1월이였으면 12월로 바꿔준 후 1년 빼주기\n",
    "            if date_new % 10000 == 28:\n",
    "                date_new -= 10000\n",
    "        # 달로 표시된 유효기간을 x년 x월로 바꾸어 더해주기\n",
    "        date_new += (months % 12) * 100 + (months // 12) * 10000\n",
    "        # 만약 xx월이 12보다 클 경우 월에서 12를 빼준 후 1년을 더해주기\n",
    "        if date_new % 10000 >= 1300:\n",
    "            date_new = date_new - 1200 + 10000\n",
    "        # 현재 날짜와 비교\n",
    "        if date_new < today_new:\n",
    "            answer.append(privacy_idx)\n",
    "    return answer"
   ]
  },
  {
   "cell_type": "code",
   "execution_count": 34,
   "metadata": {},
   "outputs": [
    {
     "data": {
      "text/plain": [
       "[]"
      ]
     },
     "execution_count": 34,
     "metadata": {},
     "output_type": "execute_result"
    }
   ],
   "source": [
    "solution(\"2021.05.02\", [\"A 12\"], [\"2021.07.01 A\"])"
   ]
  }
 ],
 "metadata": {
  "kernelspec": {
   "display_name": "upstage_ai_lab",
   "language": "python",
   "name": "python3"
  },
  "language_info": {
   "codemirror_mode": {
    "name": "ipython",
    "version": 3
   },
   "file_extension": ".py",
   "mimetype": "text/x-python",
   "name": "python",
   "nbconvert_exporter": "python",
   "pygments_lexer": "ipython3",
   "version": "3.9.18"
  }
 },
 "nbformat": 4,
 "nbformat_minor": 2
}
