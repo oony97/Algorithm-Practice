{
 "cells": [
  {
   "cell_type": "markdown",
   "metadata": {},
   "source": [
    "# 프로그래머스\n",
    "## 성격 유형 검사하기\n",
    "### Lv.1"
   ]
  },
  {
   "cell_type": "code",
   "execution_count": 3,
   "metadata": {},
   "outputs": [],
   "source": [
    "def solution(survey, choices):\n",
    "    answer = ''\n",
    "    personality_dict = {'R':0, 'T':0, 'C':0, 'F':0, 'J':0, 'M':0, 'A':0, 'N':0}\n",
    "    personality_groups = ['RT', 'CF', 'JM', 'AN']\n",
    "    for i in range(len(survey)):\n",
    "        # 각 지표를 측정하는 질문에 따라 해당 점수 더해주기\n",
    "        if 'R' in survey[i]:\n",
    "            if survey[i][0] == 'R':\n",
    "                if choices[i] - 4 > 0:\n",
    "                    personality_dict['T'] += choices[i] - 4\n",
    "                else:\n",
    "                    personality_dict['R'] += abs(choices[i] - 4)\n",
    "            else:\n",
    "                if choices[i] - 4 > 0:\n",
    "                    personality_dict['R'] += choices[i] - 4\n",
    "                else:\n",
    "                    personality_dict['T'] += abs(choices[i] - 4)\n",
    "        if 'C' in survey[i]:\n",
    "            if survey[i][0] == 'C':\n",
    "                if choices[i] - 4 > 0:\n",
    "                    personality_dict['F'] += choices[i] - 4\n",
    "                else:\n",
    "                    personality_dict['C'] += abs(choices[i] - 4)\n",
    "            else:\n",
    "                if choices[i] - 4 > 0:\n",
    "                    personality_dict['C'] += choices[i] - 4\n",
    "                else:\n",
    "                    personality_dict['F'] += abs(choices[i] - 4)\n",
    "        if 'J' in survey[i]:\n",
    "            if survey[i][0] == 'J':\n",
    "                if choices[i] - 4 > 0:\n",
    "                    personality_dict['M'] += choices[i] - 4\n",
    "                else:\n",
    "                    personality_dict['J'] += abs(choices[i] - 4)\n",
    "            else:\n",
    "                if choices[i] - 4 > 0:\n",
    "                    personality_dict['J'] += choices[i] - 4\n",
    "                else:\n",
    "                    personality_dict['M'] += abs(choices[i] - 4)\n",
    "        if 'A' in survey[i]:\n",
    "            if survey[i][0] == 'A':\n",
    "                if choices[i] - 4 > 0:\n",
    "                    personality_dict['N'] += choices[i] - 4\n",
    "                else:\n",
    "                    personality_dict['A'] += abs(choices[i] - 4)\n",
    "            else:\n",
    "                if choices[i] - 4 > 0:\n",
    "                    personality_dict['A'] += choices[i] - 4\n",
    "                else:\n",
    "                    personality_dict['N'] += abs(choices[i] - 4)\n",
    "    # 대립하는 지표의 값을 비교하여 성격유형 정하기\n",
    "    for group in personality_groups:\n",
    "        if personality_dict[group[0]] >= personality_dict[group[1]]:\n",
    "            answer += group[0]\n",
    "        else:\n",
    "            answer += group[1]\n",
    "\n",
    "    return answer"
   ]
  },
  {
   "cell_type": "code",
   "execution_count": 5,
   "metadata": {},
   "outputs": [
    {
     "data": {
      "text/plain": [
       "'RCJA'"
      ]
     },
     "execution_count": 5,
     "metadata": {},
     "output_type": "execute_result"
    }
   ],
   "source": [
    "solution([\"TR\", \"RT\", \"TR\"], [7, 1, 3])"
   ]
  },
  {
   "cell_type": "code",
   "execution_count": null,
   "metadata": {},
   "outputs": [],
   "source": []
  }
 ],
 "metadata": {
  "kernelspec": {
   "display_name": "Python 3",
   "language": "python",
   "name": "python3"
  },
  "language_info": {
   "codemirror_mode": {
    "name": "ipython",
    "version": 3
   },
   "file_extension": ".py",
   "mimetype": "text/x-python",
   "name": "python",
   "nbconvert_exporter": "python",
   "pygments_lexer": "ipython3",
   "version": "3.10.1"
  }
 },
 "nbformat": 4,
 "nbformat_minor": 2
}
