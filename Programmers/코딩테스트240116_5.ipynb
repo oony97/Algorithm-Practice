{
 "cells": [
  {
   "cell_type": "markdown",
   "metadata": {},
   "source": [
    "# 프로그래머스\n",
    "## 카드 뭉치"
   ]
  },
  {
   "cell_type": "code",
   "execution_count": 2,
   "metadata": {},
   "outputs": [],
   "source": [
    "def solution(cards1, cards2, goal):\n",
    "    answer = 'Yes'\n",
    "    cards1_idx = 0\n",
    "    cards2_idx = 0\n",
    "    for i in range(len(goal)):\n",
    "        if cards1_idx < len(cards1) and cards1[cards1_idx] == goal[i]:\n",
    "            cards1_idx += 1\n",
    "        elif cards2_idx < len(cards2) and cards2[cards2_idx] == goal[i]:\n",
    "            cards2_idx += 1\n",
    "        else:\n",
    "            answer = 'No'\n",
    "            break\n",
    "    return answer"
   ]
  }
 ],
 "metadata": {
  "kernelspec": {
   "display_name": "upstage_ai_lab",
   "language": "python",
   "name": "python3"
  },
  "language_info": {
   "codemirror_mode": {
    "name": "ipython",
    "version": 3
   },
   "file_extension": ".py",
   "mimetype": "text/x-python",
   "name": "python",
   "nbconvert_exporter": "python",
   "pygments_lexer": "ipython3",
   "version": "3.9.18"
  }
 },
 "nbformat": 4,
 "nbformat_minor": 2
}
