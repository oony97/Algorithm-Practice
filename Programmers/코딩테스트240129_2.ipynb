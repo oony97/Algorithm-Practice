{
 "cells": [
  {
   "cell_type": "markdown",
   "metadata": {},
   "source": [
    "# 프로그래머스\n",
    "## 신고 결과 받기\n",
    "### Lv.1"
   ]
  },
  {
   "cell_type": "code",
   "execution_count": 4,
   "metadata": {},
   "outputs": [],
   "source": [
    "def solution(id_list, report, k):\n",
    "    answer = [] # 정답\n",
    "    banned_ids = [] # 정지된 id의 리스트\n",
    "    reported_dict = {} # key는 신고당한 id, value는 신고당한 횟수\n",
    "    report_dict = {} # key는 신고한 id, value는 해당 id가 신고한 id의 리스트\n",
    "    # reported_dict와 report_dict key와 value 기본으로 세팅\n",
    "    for id in id_list:\n",
    "        reported_dict[id] = 0\n",
    "        report_dict[id] = []\n",
    "    # 각각의 신고에 따라 reported_dict와 report_dict를 채워준다.\n",
    "    for i in report:\n",
    "        reporter, reported_guy = i.split()\n",
    "        if reported_guy not in report_dict[reporter]:\n",
    "            report_dict[reporter].append(reported_guy)\n",
    "            reported_dict[reported_guy] += 1\n",
    "        else:\n",
    "            pass\n",
    "    # 정지 기준 이상 신고당한 아이디가 있다면 정지된 id를 banned_ids에 추가\n",
    "    for id in id_list:\n",
    "        if reported_dict[id] >= k:\n",
    "            banned_ids.append(id)\n",
    "    # 신고한 아이디 중 정지 당한 id의 횟수를 차례대로 정답 리스트에 추가\n",
    "    for id in id_list:\n",
    "        count = 0\n",
    "        for reported_id in report_dict[id]:\n",
    "            if reported_id in banned_ids:\n",
    "                count += 1\n",
    "        answer.append(count)\n",
    "    return answer\n",
    "        \n",
    "    \n"
   ]
  },
  {
   "cell_type": "code",
   "execution_count": 5,
   "metadata": {},
   "outputs": [
    {
     "data": {
      "text/plain": [
       "[2, 1, 1, 0]"
      ]
     },
     "execution_count": 5,
     "metadata": {},
     "output_type": "execute_result"
    }
   ],
   "source": [
    "solution([\"muzi\", \"frodo\", \"apeach\", \"neo\"], [\"muzi frodo\",\"apeach frodo\",\"frodo neo\",\"muzi neo\",\"apeach muzi\"], 2)"
   ]
  },
  {
   "cell_type": "code",
   "execution_count": null,
   "metadata": {},
   "outputs": [],
   "source": [
    "# 과거 답안\n",
    "def solution(id_list, report, k):\n",
    "    answer = [0] * len(id_list)\n",
    "    id_report = {} # key는 신고한 id, value는 해당 아이디가 신고한 id들의 set\n",
    "    reported_num = {} # id별 신고당한 횟수를 저장. key는 신고당한 id, value는 신고당한 횟수\n",
    "    for i in report:\n",
    "        a, b = i.split() # 신고한 id와 신고당한 id를 a,b에 나누어 저장\n",
    "        # a가 이전에 신고한적이 없는 id라면 a를 key로 {b}(set)를 value값으로 id_report(dictionary)에 저장\n",
    "        if a not in id_report:\n",
    "            id_report[a] = {b}\n",
    "        # 이전에 신고한적이 있는 아이디라면 value값(set)에 b를 추가\n",
    "        else:\n",
    "            id_report[a].add(b)\n",
    "    # reported_num에 모든 신고당한 id별 신고당한 횟수를 저장\n",
    "    for i in id_report:\n",
    "        for j in id_report[i]:\n",
    "            if j not in reported_num:\n",
    "                reported_num[j] = 1\n",
    "            else:\n",
    "                reported_num[j] += 1\n",
    "    # id_list의 모든 id별로 해당 id가 신고한적이 있으면 해당 id가 신고한 id의 신고당한 횟수를 reported_nu에서\n",
    "    # 확인 후 k보다 클 때 answer 리스트에 업데이트\n",
    "    for i in range(len(id_list)):\n",
    "        if id_list[i] not in id_report:\n",
    "            pass\n",
    "        else:\n",
    "            for j in id_report[id_list[i]]:\n",
    "                if reported_num[j] >= k:\n",
    "                    answer[i] += 1\n",
    "    return answer"
   ]
  }
 ],
 "metadata": {
  "kernelspec": {
   "display_name": "Python 3",
   "language": "python",
   "name": "python3"
  },
  "language_info": {
   "codemirror_mode": {
    "name": "ipython",
    "version": 3
   },
   "file_extension": ".py",
   "mimetype": "text/x-python",
   "name": "python",
   "nbconvert_exporter": "python",
   "pygments_lexer": "ipython3",
   "version": "3.10.1"
  }
 },
 "nbformat": 4,
 "nbformat_minor": 2
}
