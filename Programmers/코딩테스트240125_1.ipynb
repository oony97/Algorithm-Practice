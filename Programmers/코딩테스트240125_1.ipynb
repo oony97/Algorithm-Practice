{
 "cells": [
  {
   "cell_type": "markdown",
   "metadata": {},
   "source": [
    "# 프로그래머스\n",
    "## 명예의 전당 (1)"
   ]
  },
  {
   "cell_type": "code",
   "execution_count": 10,
   "metadata": {},
   "outputs": [],
   "source": [
    "def solution(k, score):\n",
    "    honors_list = []\n",
    "    answer = []\n",
    "    for singer in score:\n",
    "        # 만약 이제까지의 점수의 수가 k보다 작다면 k를 명예에 전당에 넣는다.\n",
    "        if len(honors_list) < k:\n",
    "            honors_list.append(singer)\n",
    "        # 반대의 경우 명예의 전당 최소 점수와 새 점수를 비교하여 더 큰 점수로 채워넣는다\n",
    "        else:\n",
    "            honors_list[0] = max(honors_list[0], singer)\n",
    "        honors_list.sort() \n",
    "        answer.append(min(honors_list)) # 정렬 후 최소 점수를 정답 리스트에 추가\n",
    "    return answer"
   ]
  },
  {
   "cell_type": "code",
   "execution_count": 11,
   "metadata": {},
   "outputs": [
    {
     "data": {
      "text/plain": [
       "[10, 10, 10, 20, 20, 100, 100]"
      ]
     },
     "execution_count": 11,
     "metadata": {},
     "output_type": "execute_result"
    }
   ],
   "source": [
    "solution(3, [10, 100, 20, 150, 1, 100, 200])"
   ]
  },
  {
   "cell_type": "code",
   "execution_count": null,
   "metadata": {},
   "outputs": [],
   "source": []
  }
 ],
 "metadata": {
  "kernelspec": {
   "display_name": "upstage_ai_lab",
   "language": "python",
   "name": "python3"
  },
  "language_info": {
   "codemirror_mode": {
    "name": "ipython",
    "version": 3
   },
   "file_extension": ".py",
   "mimetype": "text/x-python",
   "name": "python",
   "nbconvert_exporter": "python",
   "pygments_lexer": "ipython3",
   "version": "3.9.18"
  }
 },
 "nbformat": 4,
 "nbformat_minor": 2
}
