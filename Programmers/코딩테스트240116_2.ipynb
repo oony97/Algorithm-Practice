{
 "cells": [
  {
   "cell_type": "markdown",
   "metadata": {},
   "source": [
    "# 프로그래머스\n",
    "## 바탕화면 정리"
   ]
  },
  {
   "cell_type": "code",
   "execution_count": 1,
   "metadata": {},
   "outputs": [],
   "source": [
    "def solution(wallpaper):\n",
    "    rows = []\n",
    "    columns = []\n",
    "    for i in range(len(wallpaper)):\n",
    "        for j in range(len(wallpaper[0])):\n",
    "            if wallpaper[i][j] == \"#\":\n",
    "                rows.append(i)\n",
    "                columns.append(j)\n",
    "    answer = [min(rows), min(columns), max(rows) + 1, max(columns) + 1]\n",
    "    return answer"
   ]
  }
 ],
 "metadata": {
  "kernelspec": {
   "display_name": "upstage_ai_lab",
   "language": "python",
   "name": "python3"
  },
  "language_info": {
   "codemirror_mode": {
    "name": "ipython",
    "version": 3
   },
   "file_extension": ".py",
   "mimetype": "text/x-python",
   "name": "python",
   "nbconvert_exporter": "python",
   "pygments_lexer": "ipython3",
   "version": "3.9.18"
  }
 },
 "nbformat": 4,
 "nbformat_minor": 2
}
