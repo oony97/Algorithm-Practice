{
 "cells": [
  {
   "cell_type": "markdown",
   "metadata": {},
   "source": [
    "# 프로그래머스\n",
    "## 문자열 나누기"
   ]
  },
  {
   "cell_type": "code",
   "execution_count": null,
   "metadata": {},
   "outputs": [],
   "source": [
    "def solution(s):\n",
    "    count = 0\n",
    "    s_idx = 0 # s_idx는 마지막으로 분해된 부분 문자열의 다음 인덱스\n",
    "    idx = 0\n",
    "    x = s[0]\n",
    "    x_count = 0\n",
    "    non_x_count = 0\n",
    "    while s_idx + idx <= len(s) - 1: # s_idx + idx는 현재 문자열 s에서 확인할 글자의 인덱스\n",
    "        if s[s_idx + idx] == x:\n",
    "            x_count += 1\n",
    "        else:\n",
    "            non_x_count += 1\n",
    "        idx += 1\n",
    "        # 만약 x의 수와 x가 아닌 글자의 수가 같아지면 s_idx를 다시 지정해주고 idx를 다시 0으로 세팅\n",
    "        if x_count == non_x_count:\n",
    "            count += 1\n",
    "            s_idx = s_idx + idx\n",
    "            idx = 0\n",
    "            # s_idx가 s의 마지막 인덱스나 그 전으로 지정되었을 때만 x를 다시 세팅해주고\n",
    "            # s의 인덱스 범위를 넘어가면 (s의 마지막 글자에서 분리되면) 루프 탈출\n",
    "            if s_idx <= len(s) - 1: # \n",
    "                x = s[s_idx]\n",
    "            else:\n",
    "                break\n",
    "        # 만약 문자열이 분리가 안 되고 s의 인덱스 범위에서 넘어가게 되면 count를 1 올려줌\n",
    "        if s_idx + idx == len(s):\n",
    "            count += 1\n",
    "    return count"
   ]
  },
  {
   "cell_type": "code",
   "execution_count": 2,
   "metadata": {},
   "outputs": [
    {
     "name": "stdout",
     "output_type": "stream",
     "text": [
      "1\n",
      "2\n",
      "3\n",
      "4\n",
      "5\n",
      "6\n",
      "7\n",
      "8\n",
      "9\n",
      "10\n"
     ]
    }
   ],
   "source": [
    "x = 0\n",
    "while True:\n",
    "    x += 1\n",
    "    print(x)\n",
    "    if x > 0:\n",
    "        if x == 10:\n",
    "            break"
   ]
  }
 ],
 "metadata": {
  "kernelspec": {
   "display_name": "upstage_ai_lab",
   "language": "python",
   "name": "python3"
  },
  "language_info": {
   "codemirror_mode": {
    "name": "ipython",
    "version": 3
   },
   "file_extension": ".py",
   "mimetype": "text/x-python",
   "name": "python",
   "nbconvert_exporter": "python",
   "pygments_lexer": "ipython3",
   "version": "3.9.18"
  }
 },
 "nbformat": 4,
 "nbformat_minor": 2
}
