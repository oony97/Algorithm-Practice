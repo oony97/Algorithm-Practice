{
 "cells": [
  {
   "cell_type": "markdown",
   "metadata": {},
   "source": [
    "# 프로그래머스\n",
    "## 가장 가까운 같은 글자"
   ]
  },
  {
   "cell_type": "code",
   "execution_count": null,
   "metadata": {},
   "outputs": [],
   "source": [
    "def solution(s):\n",
    "    answer = []\n",
    "    # 문자열 s의 뒤에서부터 하나씩 앞으로 이동하면서 같은 문자가 있는지 확인\n",
    "    for i in range(len(s) - 1, -1, -1):\n",
    "        count = 0\n",
    "        for j in range(i - 1, -1, -1):\n",
    "            count += 1\n",
    "            if s[i] == s[j]:\n",
    "                break\n",
    "            elif j == 0:\n",
    "                count = -1\n",
    "        # count는 0에서 시작하기 때문에 맨 앞 글자의 경우 항상 0의 값을 가짐\n",
    "        # 하지만 맨 앞 글자는 항상 -1의 값을 가져야함.\n",
    "        if count == 0:\n",
    "            count = -1\n",
    "        answer.insert(0, count)\n",
    "    return answer"
   ]
  }
 ],
 "metadata": {
  "kernelspec": {
   "display_name": "upstage_ai_lab",
   "language": "python",
   "name": "python3"
  },
  "language_info": {
   "codemirror_mode": {
    "name": "ipython",
    "version": 3
   },
   "file_extension": ".py",
   "mimetype": "text/x-python",
   "name": "python",
   "nbconvert_exporter": "python",
   "pygments_lexer": "ipython3",
   "version": "3.9.18"
  }
 },
 "nbformat": 4,
 "nbformat_minor": 2
}
