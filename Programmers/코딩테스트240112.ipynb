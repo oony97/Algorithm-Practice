{
 "cells": [
  {
   "cell_type": "markdown",
   "metadata": {},
   "source": [
    "# 프로그래머스\n",
    "## [PCCP 기출문제] 1번 / 붕대 감기"
   ]
  },
  {
   "cell_type": "code",
   "execution_count": 2,
   "metadata": {},
   "outputs": [],
   "source": [
    "def solution(bandage, health, attacks):\n",
    "    answer = 0\n",
    "    current_health = health\n",
    "    heal_continued = 0 # 회복 지속시간\n",
    "    last_attack_time = attacks[-1][0] # 마지막으로 공격 당하는 시간\n",
    "    upcoming_attack = 0 # 가장 가까운 시간에 당하는 공격의 인덱스\n",
    "    for current_time in range(last_attack_time + 1):\n",
    "        # 만약 현재 초에서 공격을 당한다면\n",
    "        if attacks[upcoming_attack][0] == current_time:\n",
    "            current_health -= attacks[upcoming_attack][1] # 체력 깍기\n",
    "            heal_continued = 0 # 회복 지속시간 0으로 초기화\n",
    "            upcoming_attack += 1 # 다음 공격으로 넘어감\n",
    "        # 만약 현재 초에서 공격을 당하지 않는다면\n",
    "        else:\n",
    "            # 체력 회복\n",
    "            current_health += bandage[1]\n",
    "            # 만약 회복 스킬을 성공했다면 추가 회복을 하고 heal_continued를 0으로 초기화\n",
    "            if heal_continued == bandage[0]:\n",
    "                current_health += bandage[2] # 추가 회복\n",
    "                heal_continued = 0 # 지속시간 초기화\n",
    "            if current_health > health:\n",
    "                current_health = health # 최대 회복 제한\n",
    "            else:\n",
    "                pass\n",
    "        heal_continued += 1\n",
    "        if current_health <= 0: # 체력이 0 이하면 루프 탈출\n",
    "            answer = -1\n",
    "            break\n",
    "    if answer != -1:\n",
    "        answer = current_health\n",
    "    return answer"
   ]
  },
  {
   "cell_type": "code",
   "execution_count": 26,
   "metadata": {},
   "outputs": [
    {
     "data": {
      "text/plain": [
       "3"
      ]
     },
     "execution_count": 26,
     "metadata": {},
     "output_type": "execute_result"
    }
   ],
   "source": [
    "solution([1, 1, 1], 5, [[1, 2], [3, 2]])"
   ]
  },
  {
   "cell_type": "code",
   "execution_count": null,
   "metadata": {},
   "outputs": [],
   "source": []
  }
 ],
 "metadata": {
  "kernelspec": {
   "display_name": "upstage_ai_lab",
   "language": "python",
   "name": "python3"
  },
  "language_info": {
   "codemirror_mode": {
    "name": "ipython",
    "version": 3
   },
   "file_extension": ".py",
   "mimetype": "text/x-python",
   "name": "python",
   "nbconvert_exporter": "python",
   "pygments_lexer": "ipython3",
   "version": "3.9.18"
  }
 },
 "nbformat": 4,
 "nbformat_minor": 2
}
