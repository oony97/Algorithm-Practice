{
 "cells": [
  {
   "cell_type": "markdown",
   "metadata": {},
   "source": [
    "# 프로그래머스\n",
    "## [PCCE 기출문제] 10번 / 데이터 분석"
   ]
  },
  {
   "cell_type": "code",
   "execution_count": 6,
   "metadata": {},
   "outputs": [],
   "source": [
    "def solution(data, ext, val_ext, sort_by):\n",
    "    data_columns = ['code', 'date', 'maximum', 'remain']\n",
    "    for i in range(4):\n",
    "        if ext == data_columns[i]:\n",
    "            idx_1 = i # ext의 인덱스 저장\n",
    "        if sort_by == data_columns[i]:\n",
    "            idx_2 = i # sort_by의 인덱스 저장\n",
    "    answer = []\n",
    "    for single_data in data:\n",
    "        if single_data[idx_1] < val_ext:\n",
    "            answer.append(single_data) # ext와 val_ext에 적합한 데이터만 저장\n",
    "    answer.sort(key = lambda x : x[idx_2]) # sort_by에 따라 정렬\n",
    "    return answer"
   ]
  },
  {
   "cell_type": "code",
   "execution_count": 7,
   "metadata": {},
   "outputs": [
    {
     "data": {
      "text/plain": [
       "[[3, 20300401, 10, 8], [1, 20300104, 100, 80]]"
      ]
     },
     "execution_count": 7,
     "metadata": {},
     "output_type": "execute_result"
    }
   ],
   "source": [
    "solution([[1, 20300104, 100, 80], [2, 20300804, 847, 37], [3, 20300401, 10, 8]], \"date\", 20300501, \"remain\")"
   ]
  }
 ],
 "metadata": {
  "kernelspec": {
   "display_name": "upstage_ai_lab",
   "language": "python",
   "name": "python3"
  },
  "language_info": {
   "codemirror_mode": {
    "name": "ipython",
    "version": 3
   },
   "file_extension": ".py",
   "mimetype": "text/x-python",
   "name": "python",
   "nbconvert_exporter": "python",
   "pygments_lexer": "ipython3",
   "version": "3.9.18"
  }
 },
 "nbformat": 4,
 "nbformat_minor": 2
}
