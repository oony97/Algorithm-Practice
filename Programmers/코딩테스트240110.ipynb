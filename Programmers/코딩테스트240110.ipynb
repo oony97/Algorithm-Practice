{
 "cells": [
  {
   "cell_type": "markdown",
   "metadata": {},
   "source": [
    "# 프로그래머스\n",
    "## 제목: 가장 많이 받은 선물\n",
    "날짜: 2024.01.10"
   ]
  },
  {
   "cell_type": "code",
   "execution_count": null,
   "metadata": {},
   "outputs": [],
   "source": [
    "def solution(friends, gifts):\n",
    "    N = len(friends)\n",
    "    friends_matrix = [[0] * N for _ in range(N)] # 서로 주고받은 내역을 기록하는 N*N 행렬 만들기\n",
    "    friends_dict = {} \n",
    "    gift_index = [0] * N # 선물 지수를 기록할 리스트\n",
    "    gift_final = [0] * N # 이번 달 받을 선물의 수 리스트\n",
    "\n",
    "    for i in range(N):\n",
    "        friends_dict[friends[i]] = i # 친구 이름을 인덱스로\n",
    "\n",
    "    for gift in gifts:\n",
    "        giver, taker = gift.split()\n",
    "        gift_index[friends_dict[giver]] += 1 # 주는 사람의 지수는 더하기 1\n",
    "        gift_index[friends_dict[taker]] -= 1 # 받는 사람의 지수는 빼기 1\n",
    "        friends_matrix[friends_dict[giver]][friends_dict[taker]] +=  1 # 행렬에 내역 기록하기\n",
    "\n",
    "    for j in range(N):\n",
    "        for k in range(j + 1, N): # (j, k)가 반복되지 않게 하기 위해서 시작은 j + 1\n",
    "            if friends_matrix[j][k] > friends_matrix[k][j]: # 주고받은 횟수 비교\n",
    "                gift_final[j] += 1\n",
    "            elif friends_matrix[j][k] < friends_matrix[k][j]:\n",
    "                gift_final[k] += 1\n",
    "            else:\n",
    "                if gift_index[j] > gift_index[k]: # 인덱스 비교\n",
    "                    gift_final[j] += 1\n",
    "                elif gift_index[j] < gift_index[k]:\n",
    "                    gift_final[k] += 1\n",
    "                else:\n",
    "                    pass\n",
    "\n",
    "    return max(gift_final)"
   ]
  }
 ],
 "metadata": {
  "kernelspec": {
   "display_name": "Python 3",
   "language": "python",
   "name": "python3"
  },
  "language_info": {
   "codemirror_mode": {
    "name": "ipython",
    "version": 3
   },
   "file_extension": ".py",
   "mimetype": "text/x-python",
   "name": "python",
   "nbconvert_exporter": "python",
   "pygments_lexer": "ipython3",
   "version": "3.10.1"
  }
 },
 "nbformat": 4,
 "nbformat_minor": 2
}
