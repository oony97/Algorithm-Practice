{
 "cells": [
  {
   "cell_type": "markdown",
   "metadata": {},
   "source": [
    "# 프로그래머스\n",
    "## 기사단원의 무기"
   ]
  },
  {
   "cell_type": "code",
   "execution_count": null,
   "metadata": {},
   "outputs": [],
   "source": [
    "# Trial 1 (시간초과)\n",
    "def solution(number, limit, power):\n",
    "    answer = 0\n",
    "    for i in range(1, number + 1): # 1부터 해당 숫자까지 약수의 개수 세기\n",
    "        count = 0 #약수의 수\n",
    "        for j in range(1, i + 1):\n",
    "            if i % j == 0:\n",
    "                count += 1\n",
    "        if count > limit: # 약수의 수가 제한된 값보다 크면 power를 더해주고\n",
    "            answer += power\n",
    "        else: # 아닌경우 약수의 수를 더해준다.\n",
    "            answer += count\n",
    "    return answer"
   ]
  },
  {
   "cell_type": "code",
   "execution_count": 9,
   "metadata": {},
   "outputs": [],
   "source": [
    "# Trial 2 (시간초과)\n",
    "def solution(number, limit, power):\n",
    "    div_list = [0] * (number + 1)\n",
    "    answer = 0\n",
    "    for i in range(1, number + 1): \n",
    "        for j in range(1, i + 1):\n",
    "            if i % j == 0:\n",
    "                if div_list[j] > limit:\n",
    "                    div_list[i] = power\n",
    "                    break\n",
    "                else:\n",
    "                    if div_list[i] + 1 <= limit:\n",
    "                        div_list[i] += 1\n",
    "                    else:\n",
    "                        div_list[i] = power\n",
    "                        break\n",
    "    answer = sum(div_list)\n",
    "    print(div_list)\n",
    "    return answer"
   ]
  },
  {
   "cell_type": "code",
   "execution_count": null,
   "metadata": {},
   "outputs": [],
   "source": [
    "# Trial 3 (인터넷 참고)\n",
    "def solution(number, limit, power):\n",
    "    answer = 0\n",
    "    for i in range(1, number + 1):\n",
    "        count = 0 \n",
    "        for j in range(1, int(i ** (1/2)) + 1):\n",
    "            if i % j == 0:\n",
    "                count += 1\n",
    "                if (j ** 2) != i:\n",
    "                    count += 1\n",
    "        if count > limit:\n",
    "            answer += power\n",
    "        else:\n",
    "            answer += count\n",
    "    return answer"
   ]
  },
  {
   "cell_type": "code",
   "execution_count": 10,
   "metadata": {},
   "outputs": [
    {
     "name": "stdout",
     "output_type": "stream",
     "text": [
      "[0, 1, 2, 2, 3, 2, 2, 2, 2, 3, 2]\n"
     ]
    },
    {
     "data": {
      "text/plain": [
       "21"
      ]
     },
     "execution_count": 10,
     "metadata": {},
     "output_type": "execute_result"
    }
   ],
   "source": [
    "solution(10, 3, 2)"
   ]
  },
  {
   "cell_type": "code",
   "execution_count": null,
   "metadata": {},
   "outputs": [],
   "source": []
  }
 ],
 "metadata": {
  "kernelspec": {
   "display_name": "upstage_ai_lab",
   "language": "python",
   "name": "python3"
  },
  "language_info": {
   "codemirror_mode": {
    "name": "ipython",
    "version": 3
   },
   "file_extension": ".py",
   "mimetype": "text/x-python",
   "name": "python",
   "nbconvert_exporter": "python",
   "pygments_lexer": "ipython3",
   "version": "3.9.18"
  }
 },
 "nbformat": 4,
 "nbformat_minor": 2
}
