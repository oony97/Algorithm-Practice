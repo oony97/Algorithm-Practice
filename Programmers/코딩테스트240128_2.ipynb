{
 "cells": [
  {
   "cell_type": "markdown",
   "metadata": {},
   "source": [
    "# 프로그래머스\n",
    "## 옹알이 (2)\n",
    "### Lv.1"
   ]
  },
  {
   "cell_type": "code",
   "execution_count": 18,
   "metadata": {},
   "outputs": [],
   "source": [
    "def solution(babbling):\n",
    "    answer = 0\n",
    "    words = ['aya', 'ye', 'woo', 'ma']\n",
    "    for word in babbling:\n",
    "        idx = 0\n",
    "        previous_sound = '' # 이전에 낸 발음\n",
    "        while idx != len(word):\n",
    "            # 인덱스를 이동해가면서 가능한 발음인지 확인 + 이전에 낸 발음인지 확인\n",
    "            if word[idx: idx + 2] in words and word[idx: idx + 2] != previous_sound:\n",
    "                previous_sound = word[idx: idx + 2]\n",
    "                idx += 2\n",
    "            elif word[idx: idx + 3] in words and word[idx: idx + 3] != previous_sound:\n",
    "                previous_sound = word[idx: idx + 3]\n",
    "                idx += 3\n",
    "            else:\n",
    "                break\n",
    "            if idx == len(word):\n",
    "                answer += 1\n",
    "    return answer"
   ]
  },
  {
   "cell_type": "code",
   "execution_count": 19,
   "metadata": {},
   "outputs": [
    {
     "name": "stdout",
     "output_type": "stream",
     "text": [
      "ayaye\n",
      "yemawoo\n"
     ]
    },
    {
     "data": {
      "text/plain": [
       "2"
      ]
     },
     "execution_count": 19,
     "metadata": {},
     "output_type": "execute_result"
    }
   ],
   "source": [
    "solution([\"ayaye\", \"uuu\", \"yeye\", \"yemawoo\", \"ayaayaa\"])"
   ]
  },
  {
   "cell_type": "code",
   "execution_count": null,
   "metadata": {},
   "outputs": [],
   "source": []
  }
 ],
 "metadata": {
  "kernelspec": {
   "display_name": "Python 3",
   "language": "python",
   "name": "python3"
  },
  "language_info": {
   "codemirror_mode": {
    "name": "ipython",
    "version": 3
   },
   "file_extension": ".py",
   "mimetype": "text/x-python",
   "name": "python",
   "nbconvert_exporter": "python",
   "pygments_lexer": "ipython3",
   "version": "3.10.1"
  }
 },
 "nbformat": 4,
 "nbformat_minor": 2
}
