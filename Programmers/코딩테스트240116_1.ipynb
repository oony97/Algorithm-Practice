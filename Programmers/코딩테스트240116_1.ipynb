{
 "cells": [
  {
   "cell_type": "markdown",
   "metadata": {},
   "source": [
    "# 프로그래머스\n",
    "## 공원 산책"
   ]
  },
  {
   "cell_type": "code",
   "execution_count": 44,
   "metadata": {},
   "outputs": [],
   "source": [
    "def solution(park, routes):\n",
    "    for i in range(len(park)):\n",
    "        for j in range(len(park[0])):\n",
    "            if park[i][j] == \"S\":\n",
    "                current_loc = [i, j] # 시작 위치를 저장한다.\n",
    "    for route in routes:\n",
    "        # temp_loc = current_loc일 경우, temp_loc의 원소가 변하면 current_loc의 원소가 동시에 변한다.\n",
    "        temp_loc = current_loc.copy()\n",
    "        # 방향에 따라 한 칸씩 이동하고 장애물을 만나면 변화한 위치를 저장하지 않는다.\n",
    "        if route[0] == \"N\" and current_loc[0] - int(route[-1]) >= 0:\n",
    "            for i in range(1, int(route[-1]) + 1):\n",
    "                temp_loc[0] -= 1\n",
    "                if park[temp_loc[0]][temp_loc[1]] == \"X\":\n",
    "                    break\n",
    "                if i == int(route[-1]):\n",
    "                    current_loc = [temp_loc[0], temp_loc[1]]\n",
    "        if route[0] == \"S\" and current_loc[0] + int(route[-1]) < len(park):\n",
    "            for i in range(1, int(route[-1]) + 1):\n",
    "                temp_loc[0] += 1\n",
    "                if park[temp_loc[0]][temp_loc[1]] == \"X\":\n",
    "                    break\n",
    "                if i == int(route[-1]):\n",
    "                    current_loc = [temp_loc[0], temp_loc[1]]\n",
    "        if route[0] == \"W\" and current_loc[1] - int(route[-1]) >= 0:\n",
    "            for i in range(1, int(route[-1]) + 1):\n",
    "                temp_loc[1] -= 1\n",
    "                if park[temp_loc[0]][temp_loc[1]] == \"X\":\n",
    "                    break\n",
    "                if i == int(route[-1]):\n",
    "                    current_loc = [temp_loc[0], temp_loc[1]]\n",
    "        if route[0] == \"E\" and current_loc[1] + int(route[-1]) < len(park[0]):\n",
    "            for i in range(1, int(route[-1]) + 1):\n",
    "                temp_loc[1] += 1\n",
    "                if park[temp_loc[0]][temp_loc[1]] == \"X\":\n",
    "                    break\n",
    "                if i == int(route[-1]):\n",
    "                    current_loc = [temp_loc[0], temp_loc[1]]\n",
    "\n",
    "    return current_loc"
   ]
  },
  {
   "cell_type": "code",
   "execution_count": 45,
   "metadata": {},
   "outputs": [
    {
     "data": {
      "text/plain": [
       "[0, 1]"
      ]
     },
     "execution_count": 45,
     "metadata": {},
     "output_type": "execute_result"
    }
   ],
   "source": [
    "solution([\"SOO\",\"OXX\",\"OOO\"], [\"E 2\",\"S 2\",\"W 1\"])"
   ]
  },
  {
   "cell_type": "code",
   "execution_count": null,
   "metadata": {},
   "outputs": [],
   "source": []
  }
 ],
 "metadata": {
  "kernelspec": {
   "display_name": "upstage_ai_lab",
   "language": "python",
   "name": "python3"
  },
  "language_info": {
   "codemirror_mode": {
    "name": "ipython",
    "version": 3
   },
   "file_extension": ".py",
   "mimetype": "text/x-python",
   "name": "python",
   "nbconvert_exporter": "python",
   "pygments_lexer": "ipython3",
   "version": "3.9.18"
  }
 },
 "nbformat": 4,
 "nbformat_minor": 2
}
