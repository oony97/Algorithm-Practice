{
 "cells": [
  {
   "cell_type": "markdown",
   "metadata": {},
   "source": [
    "# 프로그래머스\n",
    "## 햄버거 만들기\n",
    "### Lv.1"
   ]
  },
  {
   "cell_type": "code",
   "execution_count": 23,
   "metadata": {},
   "outputs": [],
   "source": [
    "# Trial 1 (시가초과)\n",
    "def solution(ingredient):\n",
    "    answer = 0\n",
    "    keep_going = True\n",
    "    while keep_going:\n",
    "        for i in range(0, len(ingredient) - 3):\n",
    "            print(i)\n",
    "            if ingredient[i] == 1 and ingredient[i + 1] == 2 and ingredient[i + 2] == 3 and ingredient[i + 3] == 1:\n",
    "                answer += 1\n",
    "                ingredient = ingredient[:i] + ingredient[i+4:]\n",
    "                print(ingredient, answer)\n",
    "                break\n",
    "            if i == len(ingredient) - 5:\n",
    "                keep_going = False\n",
    "                \n",
    "                \n",
    "                    \n",
    "    return answer"
   ]
  },
  {
   "cell_type": "code",
   "execution_count": null,
   "metadata": {},
   "outputs": [],
   "source": [
    "# Trial 2 (시간초과)\n",
    "def solution(ingredient):\n",
    "    ingredient_str = ''\n",
    "    count = 0\n",
    "    for i in ingredient:\n",
    "        ingredient_str += str(i)\n",
    "    while '1231' in ingredient_str:\n",
    "        count += 1\n",
    "        idx = ingredient_str.find('1231')\n",
    "        ingredient_str = ingredient_str[:idx] + ingredient_str[idx+4:]\n",
    "    return count\n"
   ]
  },
  {
   "cell_type": "code",
   "execution_count": null,
   "metadata": {},
   "outputs": [],
   "source": [
    "# Trial 3 (시간초과)\n",
    "def solution(ingredient):\n",
    "    count = 0\n",
    "    keep_going = True\n",
    "    while keep_going and len(ingredient)>= 4:\n",
    "        for i in range(len(ingredient)-3):\n",
    "            if ingredient[i] == 1 and ingredient[i + 1] == 2 and ingredient[i + 2] == 3 and ingredient[i + 3] == 1:\n",
    "                count += 1\n",
    "                ingredient = ingredient[:i] + ingredient[i + 4:]\n",
    "                break\n",
    "            if i == len(ingredient) - 4:\n",
    "                keep_going = False\n",
    "    return count"
   ]
  },
  {
   "cell_type": "code",
   "execution_count": 3,
   "metadata": {},
   "outputs": [],
   "source": [
    "# Trial 4 (시간초과)\n",
    "def solution(ingredient):\n",
    "    ingredient_str = ''.join(map(str, ingredient))\n",
    "    answer = 0\n",
    "    while '1231' in ingredient_str:\n",
    "        answer += 1\n",
    "        ingredient_str = ingredient_str.replace('1231', '', 1)     \n",
    "    return answer\n"
   ]
  },
  {
   "cell_type": "code",
   "execution_count": null,
   "metadata": {},
   "outputs": [],
   "source": [
    "# Trial 5\n",
    "def solution(ingredient):\n",
    "    s = []\n",
    "    cnt = 0\n",
    "    for i in ingredient:\n",
    "        s.append(i)\n",
    "        if s[-4:] == [1,2,3,1]:\n",
    "            cnt += 1\n",
    "            for j in range(4):\n",
    "                s.pop()\n",
    "    return cnt"
   ]
  }
 ],
 "metadata": {
  "kernelspec": {
   "display_name": "upstage_ai_lab",
   "language": "python",
   "name": "python3"
  },
  "language_info": {
   "codemirror_mode": {
    "name": "ipython",
    "version": 3
   },
   "file_extension": ".py",
   "mimetype": "text/x-python",
   "name": "python",
   "nbconvert_exporter": "python",
   "pygments_lexer": "ipython3",
   "version": "3.10.1"
  }
 },
 "nbformat": 4,
 "nbformat_minor": 2
}
