{
 "cells": [
  {
   "cell_type": "markdown",
   "metadata": {},
   "source": [
    "# 프로그래머스\n",
    "## 대충 만든 자판"
   ]
  },
  {
   "cell_type": "code",
   "execution_count": 10,
   "metadata": {},
   "outputs": [],
   "source": [
    "def solution(keymap, targets):\n",
    "    answer = []\n",
    "    keys_list = [] # keymap에 존재하는 알파벳을 저장하는 리스트\n",
    "    keys_dict = {} # 알파벳을 입력하기 위해 최소 몇 번을 눌러야 하는지 저장하는 딕셔너리\n",
    "    for keys in keymap:\n",
    "        for i in range(len(keys)):\n",
    "            if keys[i] not in keys_list: # key_list을 존재하지 않는 알파벳의 경우 key_list와 keys_dict에 추가\n",
    "                keys_list.append(keys[i])\n",
    "                keys_dict[keys[i]] = i + 1\n",
    "            else: # key_list에 존재하는 경우 누른 횟수를 비교하여 최소 횟수를 keys_dict에 저장\n",
    "                keys_dict[keys[i]] = min(keys_dict[keys[i]], i + 1)\n",
    "    for target in targets:\n",
    "        sum = 0\n",
    "        for alphabet in target:\n",
    "            if alphabet not in keys_list:\n",
    "                sum = -1\n",
    "                break\n",
    "            sum += keys_dict[alphabet]\n",
    "        answer.append(sum)\n",
    "    return answer   "
   ]
  },
  {
   "cell_type": "code",
   "execution_count": 11,
   "metadata": {},
   "outputs": [
    {
     "data": {
      "text/plain": [
       "[-1]"
      ]
     },
     "execution_count": 11,
     "metadata": {},
     "output_type": "execute_result"
    }
   ],
   "source": [
    "solution([\"AA\"], [\"B\"])"
   ]
  }
 ],
 "metadata": {
  "kernelspec": {
   "display_name": "upstage_ai_lab",
   "language": "python",
   "name": "python3"
  },
  "language_info": {
   "codemirror_mode": {
    "name": "ipython",
    "version": 3
   },
   "file_extension": ".py",
   "mimetype": "text/x-python",
   "name": "python",
   "nbconvert_exporter": "python",
   "pygments_lexer": "ipython3",
   "version": "3.9.18"
  }
 },
 "nbformat": 4,
 "nbformat_minor": 2
}
