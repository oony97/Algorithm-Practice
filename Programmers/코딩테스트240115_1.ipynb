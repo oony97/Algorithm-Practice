{
 "cells": [
  {
   "cell_type": "markdown",
   "metadata": {},
   "source": [
    "# 프로그래머스\n",
    "## 달리기 경주"
   ]
  },
  {
   "cell_type": "code",
   "execution_count": 6,
   "metadata": {},
   "outputs": [],
   "source": [
    "# Trial 1 (시간 초과)\n",
    "def solution(players, callings):\n",
    "    for name in callings:\n",
    "        player_idx = players.index(name)\n",
    "        extra_space = players[player_idx - 1]\n",
    "        players[player_idx - 1] = name\n",
    "        players[player_idx] = extra_space\n",
    "    return players"
   ]
  },
  {
   "cell_type": "code",
   "execution_count": 7,
   "metadata": {},
   "outputs": [
    {
     "data": {
      "text/plain": [
       "['mumu', 'kai', 'mine', 'soe', 'poe']"
      ]
     },
     "execution_count": 7,
     "metadata": {},
     "output_type": "execute_result"
    }
   ],
   "source": [
    "solution([\"mumu\", \"soe\", \"poe\", \"kai\", \"mine\"], [\"kai\", \"kai\", \"mine\", \"mine\"])"
   ]
  },
  {
   "cell_type": "code",
   "execution_count": 7,
   "metadata": {},
   "outputs": [],
   "source": [
    "# Trial 2\n",
    "def solution(players, callings):\n",
    "    answer = []\n",
    "    players_nums = {} # key는 선수, value는 순위\n",
    "    nums_players = {} # key는 순위, value는 선수\n",
    "    for i in range(len(players)):\n",
    "        nums_players[i] = players[i]\n",
    "        players_nums[players[i]] = i\n",
    "    for calling in callings:\n",
    "        x = players_nums[calling] # x는 호출의 선수의 순위\n",
    "        y = nums_players[x - 1] # y는 호출된 선수 앞 순위 선수의 이름\n",
    "        players_nums[y] += 1 # 호출된 선수 앞 선수의 순위를 하나 올린다.\n",
    "        players_nums[calling] -= 1 # 호출된 선수의 순위를 하나 낮춘다.\n",
    "        nums_players[x] = y\n",
    "        nums_players[x - 1] = calling\n",
    "    for j in range(len(players)):\n",
    "        answer.append(nums_players[j])\n",
    "    return answer"
   ]
  },
  {
   "cell_type": "code",
   "execution_count": 8,
   "metadata": {},
   "outputs": [
    {
     "data": {
      "text/plain": [
       "['mumu', 'kai', 'mine', 'soe', 'poe']"
      ]
     },
     "execution_count": 8,
     "metadata": {},
     "output_type": "execute_result"
    }
   ],
   "source": [
    "solution([\"mumu\", \"soe\", \"poe\", \"kai\", \"mine\"], [\"kai\", \"kai\", \"mine\", \"mine\"])"
   ]
  },
  {
   "cell_type": "code",
   "execution_count": null,
   "metadata": {},
   "outputs": [],
   "source": []
  }
 ],
 "metadata": {
  "kernelspec": {
   "display_name": "upstage_ai_lab",
   "language": "python",
   "name": "python3"
  },
  "language_info": {
   "codemirror_mode": {
    "name": "ipython",
    "version": 3
   },
   "file_extension": ".py",
   "mimetype": "text/x-python",
   "name": "python",
   "nbconvert_exporter": "python",
   "pygments_lexer": "ipython3",
   "version": "3.9.18"
  }
 },
 "nbformat": 4,
 "nbformat_minor": 2
}
