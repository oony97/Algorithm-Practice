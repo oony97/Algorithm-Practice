{
 "cells": [
  {
   "cell_type": "markdown",
   "metadata": {},
   "source": [
    "# 프로그래머스\n",
    "## 둘만의 암호"
   ]
  },
  {
   "cell_type": "code",
   "execution_count": 13,
   "metadata": {},
   "outputs": [],
   "source": [
    "# Trial 1 (채점 결과: 21.1/100)\n",
    "def solution(s, skip, index):\n",
    "    answer = ''\n",
    "    alphabet_dict = {}\n",
    "    alphabet = \"abcdefghijklmnopqrstuvwxyz\"\n",
    "    for i in range(len(alphabet)):\n",
    "        count = 0\n",
    "        # index 만큼 넘어가는 동안 skip에 들어있는 알파벳을 얼마나 거치는지 기록\n",
    "        for j in range(1, index + 1): # 문제점: 현재 위치에서 index 만큼 뒤에 있는 알파벳 사이에 스킵되는 알파벳 개수만 계산\n",
    "            if alphabet[(i + j) % len(alphabet)] in skip:\n",
    "                count += 1\n",
    "        idx = (i + index + count) % len(alphabet)\n",
    "        alphabet_dict[alphabet[i]] = alphabet[idx]\n",
    "    for letter in s:\n",
    "        answer += alphabet_dict[letter]\n",
    "    print(alphabet_dict)\n",
    "    return answer"
   ]
  },
  {
   "cell_type": "code",
   "execution_count": 34,
   "metadata": {},
   "outputs": [],
   "source": [
    "# Trial 2 (성공)\n",
    "def solution(s, skip, index):\n",
    "    answer = ''\n",
    "    alphabet_dict = {}\n",
    "    alphabet = \"abcdefghijklmnopqrstuvwxyz\"\n",
    "    for i in range(len(alphabet)):\n",
    "        idx = 0\n",
    "        hidden_idx = 0\n",
    "        while idx != index: # while loop를 사용하여 skip에 포함되어 있는 알파벳은 넘어가서 index 만큼 뒤에 있는 알파벳을 찾음.\n",
    "            hidden_idx += 1\n",
    "            if alphabet[(i + hidden_idx) % len(alphabet)] not in skip:\n",
    "                idx += 1\n",
    "        alphabet_dict[alphabet[i]] = alphabet[(i + hidden_idx) % len(alphabet)]\n",
    "    for letter in s:\n",
    "        answer += alphabet_dict[letter]\n",
    "    # print(alphabet_dict)\n",
    "    return answer"
   ]
  },
  {
   "cell_type": "code",
   "execution_count": 35,
   "metadata": {},
   "outputs": [
    {
     "name": "stdout",
     "output_type": "stream",
     "text": [
      "{'a': 'e', 'b': 'e', 'c': 'e', 'd': 'e', 'e': 'f', 'f': 'g', 'g': 'h', 'h': 'i', 'i': 'j', 'j': 'k', 'k': 'l', 'l': 'm', 'm': 'n', 'n': 'o', 'o': 'p', 'p': 'q', 'q': 'r', 'r': 's', 's': 't', 't': 'u', 'u': 'v', 'v': 'w', 'w': 'x', 'x': 'y', 'y': 'z', 'z': 'e'}\n"
     ]
    },
    {
     "data": {
      "text/plain": [
       "'eeee'"
      ]
     },
     "execution_count": 35,
     "metadata": {},
     "output_type": "execute_result"
    }
   ],
   "source": [
    "solution(\"abcd\", \"abcd\", 1)"
   ]
  }
 ],
 "metadata": {
  "kernelspec": {
   "display_name": "upstage_ai_lab",
   "language": "python",
   "name": "python3"
  },
  "language_info": {
   "codemirror_mode": {
    "name": "ipython",
    "version": 3
   },
   "file_extension": ".py",
   "mimetype": "text/x-python",
   "name": "python",
   "nbconvert_exporter": "python",
   "pygments_lexer": "ipython3",
   "version": "3.9.18"
  }
 },
 "nbformat": 4,
 "nbformat_minor": 2
}
